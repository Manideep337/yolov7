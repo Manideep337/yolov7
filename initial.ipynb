{
 "cells": [
  {
   "cell_type": "code",
   "execution_count": 1,
   "outputs": [
    {
     "name": "stdout",
     "output_type": "stream",
     "text": [
      "Hello world\n"
     ]
    }
   ],
   "source": [
    "print(\"Hello world\")"
   ],
   "metadata": {
    "collapsed": false,
    "ExecuteTime": {
     "end_time": "2023-09-03T08:28:11.071286Z",
     "start_time": "2023-09-03T08:28:11.068146Z"
    }
   },
   "id": "a40cf3a539a7827a"
  },
  {
   "cell_type": "code",
   "execution_count": 2,
   "outputs": [
    {
     "name": "stdout",
     "output_type": "stream",
     "text": [
      "Collecting matplotlib>=3.2.2 (from -r requirements.txt (line 4))\r\n",
      "  Obtaining dependency information for matplotlib>=3.2.2 from https://files.pythonhosted.org/packages/f6/22/9c31044ff7339c63727a135872e5cb59564f11625372a81c3eebf148f4af/matplotlib-3.7.2-cp311-cp311-macosx_11_0_arm64.whl.metadata\r\n",
      "  Using cached matplotlib-3.7.2-cp311-cp311-macosx_11_0_arm64.whl.metadata (5.6 kB)\r\n",
      "Requirement already satisfied: numpy<1.24.0,>=1.18.5 in /Users/manideep/anaconda3/lib/python3.11/site-packages (from -r requirements.txt (line 5)) (1.23.5)\r\n",
      "Collecting opencv-python>=4.1.1 (from -r requirements.txt (line 6))\r\n",
      "  Obtaining dependency information for opencv-python>=4.1.1 from https://files.pythonhosted.org/packages/32/a6/4321f0f30ee11d6d85f49251d417f4e885fe7638b5ac50b7e3c80cccf141/opencv_python-4.8.0.76-cp37-abi3-macosx_11_0_arm64.whl.metadata\r\n",
      "  Using cached opencv_python-4.8.0.76-cp37-abi3-macosx_11_0_arm64.whl.metadata (19 kB)\r\n",
      "Requirement already satisfied: Pillow>=7.1.2 in /Users/manideep/anaconda3/lib/python3.11/site-packages (from -r requirements.txt (line 7)) (9.4.0)\r\n",
      "Requirement already satisfied: PyYAML>=5.3.1 in /Users/manideep/anaconda3/lib/python3.11/site-packages (from -r requirements.txt (line 8)) (6.0)\r\n",
      "Requirement already satisfied: requests>=2.23.0 in /Users/manideep/anaconda3/lib/python3.11/site-packages (from -r requirements.txt (line 9)) (2.29.0)\r\n",
      "Requirement already satisfied: scipy>=1.4.1 in /Users/manideep/anaconda3/lib/python3.11/site-packages (from -r requirements.txt (line 10)) (1.10.1)\r\n",
      "Requirement already satisfied: torch!=1.12.0,>=1.7.0 in /Users/manideep/anaconda3/lib/python3.11/site-packages (from -r requirements.txt (line 11)) (2.0.1)\r\n",
      "Collecting torchvision!=0.13.0,>=0.8.1 (from -r requirements.txt (line 12))\r\n",
      "  Downloading torchvision-0.15.2-cp311-cp311-macosx_11_0_arm64.whl (1.4 MB)\r\n",
      "\u001B[2K     \u001B[90m━━━━━━━━━━━━━━━━━━━━━━━━━━━━━━━━━━━━━━━━\u001B[0m \u001B[32m1.4/1.4 MB\u001B[0m \u001B[31m633.3 kB/s\u001B[0m eta \u001B[36m0:00:00\u001B[0m00:01\u001B[0m00:01\u001B[0m\r\n",
      "\u001B[?25hRequirement already satisfied: tqdm>=4.41.0 in /Users/manideep/anaconda3/lib/python3.11/site-packages (from -r requirements.txt (line 13)) (4.65.0)\r\n",
      "Collecting protobuf<4.21.3 (from -r requirements.txt (line 14))\r\n",
      "  Downloading protobuf-4.21.2-cp37-abi3-macosx_10_9_universal2.whl (483 kB)\r\n",
      "\u001B[2K     \u001B[90m━━━━━━━━━━━━━━━━━━━━━━━━━━━━━━━━━━━━━\u001B[0m \u001B[32m483.1/483.1 kB\u001B[0m \u001B[31m661.8 kB/s\u001B[0m eta \u001B[36m0:00:00\u001B[0ma \u001B[36m0:00:01\u001B[0m\r\n",
      "\u001B[?25hRequirement already satisfied: tensorboard>=2.4.1 in /Users/manideep/anaconda3/lib/python3.11/site-packages (from -r requirements.txt (line 17)) (2.13.0)\r\n",
      "Requirement already satisfied: pandas>=1.1.4 in /Users/manideep/anaconda3/lib/python3.11/site-packages (from -r requirements.txt (line 21)) (1.5.3)\r\n",
      "Requirement already satisfied: seaborn>=0.11.0 in /Users/manideep/anaconda3/lib/python3.11/site-packages (from -r requirements.txt (line 22)) (0.12.2)\r\n",
      "Requirement already satisfied: ipython in /Users/manideep/anaconda3/lib/python3.11/site-packages (from -r requirements.txt (line 34)) (8.12.0)\r\n",
      "Requirement already satisfied: psutil in /Users/manideep/anaconda3/lib/python3.11/site-packages (from -r requirements.txt (line 35)) (5.9.0)\r\n",
      "Collecting thop (from -r requirements.txt (line 36))\r\n",
      "  Downloading thop-0.1.1.post2209072238-py3-none-any.whl (15 kB)\r\n",
      "Requirement already satisfied: contourpy>=1.0.1 in /Users/manideep/anaconda3/lib/python3.11/site-packages (from matplotlib>=3.2.2->-r requirements.txt (line 4)) (1.0.5)\r\n",
      "Requirement already satisfied: cycler>=0.10 in /Users/manideep/anaconda3/lib/python3.11/site-packages (from matplotlib>=3.2.2->-r requirements.txt (line 4)) (0.11.0)\r\n",
      "Requirement already satisfied: fonttools>=4.22.0 in /Users/manideep/anaconda3/lib/python3.11/site-packages (from matplotlib>=3.2.2->-r requirements.txt (line 4)) (4.25.0)\r\n",
      "Requirement already satisfied: kiwisolver>=1.0.1 in /Users/manideep/anaconda3/lib/python3.11/site-packages (from matplotlib>=3.2.2->-r requirements.txt (line 4)) (1.4.4)\r\n",
      "Requirement already satisfied: packaging>=20.0 in /Users/manideep/anaconda3/lib/python3.11/site-packages (from matplotlib>=3.2.2->-r requirements.txt (line 4)) (23.0)\r\n",
      "Requirement already satisfied: pyparsing<3.1,>=2.3.1 in /Users/manideep/anaconda3/lib/python3.11/site-packages (from matplotlib>=3.2.2->-r requirements.txt (line 4)) (3.0.9)\r\n",
      "Requirement already satisfied: python-dateutil>=2.7 in /Users/manideep/anaconda3/lib/python3.11/site-packages (from matplotlib>=3.2.2->-r requirements.txt (line 4)) (2.8.2)\r\n",
      "Requirement already satisfied: charset-normalizer<4,>=2 in /Users/manideep/anaconda3/lib/python3.11/site-packages (from requests>=2.23.0->-r requirements.txt (line 9)) (2.0.4)\r\n",
      "Requirement already satisfied: idna<4,>=2.5 in /Users/manideep/anaconda3/lib/python3.11/site-packages (from requests>=2.23.0->-r requirements.txt (line 9)) (3.4)\r\n",
      "Requirement already satisfied: urllib3<1.27,>=1.21.1 in /Users/manideep/anaconda3/lib/python3.11/site-packages (from requests>=2.23.0->-r requirements.txt (line 9)) (1.26.16)\r\n",
      "Requirement already satisfied: certifi>=2017.4.17 in /Users/manideep/anaconda3/lib/python3.11/site-packages (from requests>=2.23.0->-r requirements.txt (line 9)) (2023.7.22)\r\n",
      "Requirement already satisfied: filelock in /Users/manideep/anaconda3/lib/python3.11/site-packages (from torch!=1.12.0,>=1.7.0->-r requirements.txt (line 11)) (3.9.0)\r\n",
      "Requirement already satisfied: typing-extensions in /Users/manideep/anaconda3/lib/python3.11/site-packages (from torch!=1.12.0,>=1.7.0->-r requirements.txt (line 11)) (4.5.0)\r\n",
      "Requirement already satisfied: sympy in /Users/manideep/anaconda3/lib/python3.11/site-packages (from torch!=1.12.0,>=1.7.0->-r requirements.txt (line 11)) (1.11.1)\r\n",
      "Requirement already satisfied: networkx in /Users/manideep/anaconda3/lib/python3.11/site-packages (from torch!=1.12.0,>=1.7.0->-r requirements.txt (line 11)) (2.8.4)\r\n",
      "Requirement already satisfied: jinja2 in /Users/manideep/anaconda3/lib/python3.11/site-packages (from torch!=1.12.0,>=1.7.0->-r requirements.txt (line 11)) (3.1.2)\r\n",
      "Requirement already satisfied: absl-py>=0.4 in /Users/manideep/anaconda3/lib/python3.11/site-packages (from tensorboard>=2.4.1->-r requirements.txt (line 17)) (1.4.0)\r\n",
      "Requirement already satisfied: grpcio>=1.48.2 in /Users/manideep/anaconda3/lib/python3.11/site-packages (from tensorboard>=2.4.1->-r requirements.txt (line 17)) (1.57.0)\r\n",
      "Requirement already satisfied: google-auth<3,>=1.6.3 in /Users/manideep/anaconda3/lib/python3.11/site-packages (from tensorboard>=2.4.1->-r requirements.txt (line 17)) (2.22.0)\r\n",
      "Requirement already satisfied: google-auth-oauthlib<1.1,>=0.5 in /Users/manideep/anaconda3/lib/python3.11/site-packages (from tensorboard>=2.4.1->-r requirements.txt (line 17)) (1.0.0)\r\n",
      "Requirement already satisfied: markdown>=2.6.8 in /Users/manideep/anaconda3/lib/python3.11/site-packages (from tensorboard>=2.4.1->-r requirements.txt (line 17)) (3.4.1)\r\n",
      "Requirement already satisfied: setuptools>=41.0.0 in /Users/manideep/anaconda3/lib/python3.11/site-packages (from tensorboard>=2.4.1->-r requirements.txt (line 17)) (67.8.0)\r\n",
      "Requirement already satisfied: tensorboard-data-server<0.8.0,>=0.7.0 in /Users/manideep/anaconda3/lib/python3.11/site-packages (from tensorboard>=2.4.1->-r requirements.txt (line 17)) (0.7.1)\r\n",
      "Requirement already satisfied: werkzeug>=1.0.1 in /Users/manideep/anaconda3/lib/python3.11/site-packages (from tensorboard>=2.4.1->-r requirements.txt (line 17)) (2.2.3)\r\n",
      "Requirement already satisfied: wheel>=0.26 in /Users/manideep/anaconda3/lib/python3.11/site-packages (from tensorboard>=2.4.1->-r requirements.txt (line 17)) (0.38.4)\r\n",
      "Requirement already satisfied: pytz>=2020.1 in /Users/manideep/anaconda3/lib/python3.11/site-packages (from pandas>=1.1.4->-r requirements.txt (line 21)) (2022.7)\r\n",
      "Requirement already satisfied: backcall in /Users/manideep/anaconda3/lib/python3.11/site-packages (from ipython->-r requirements.txt (line 34)) (0.2.0)\r\n",
      "Requirement already satisfied: decorator in /Users/manideep/anaconda3/lib/python3.11/site-packages (from ipython->-r requirements.txt (line 34)) (5.1.1)\r\n",
      "Requirement already satisfied: jedi>=0.16 in /Users/manideep/anaconda3/lib/python3.11/site-packages (from ipython->-r requirements.txt (line 34)) (0.18.1)\r\n",
      "Requirement already satisfied: matplotlib-inline in /Users/manideep/anaconda3/lib/python3.11/site-packages (from ipython->-r requirements.txt (line 34)) (0.1.6)\r\n",
      "Requirement already satisfied: pickleshare in /Users/manideep/anaconda3/lib/python3.11/site-packages (from ipython->-r requirements.txt (line 34)) (0.7.5)\r\n",
      "Requirement already satisfied: prompt-toolkit!=3.0.37,<3.1.0,>=3.0.30 in /Users/manideep/anaconda3/lib/python3.11/site-packages (from ipython->-r requirements.txt (line 34)) (3.0.36)\r\n",
      "Requirement already satisfied: pygments>=2.4.0 in /Users/manideep/anaconda3/lib/python3.11/site-packages (from ipython->-r requirements.txt (line 34)) (2.15.1)\r\n",
      "Requirement already satisfied: stack-data in /Users/manideep/anaconda3/lib/python3.11/site-packages (from ipython->-r requirements.txt (line 34)) (0.2.0)\r\n",
      "Requirement already satisfied: traitlets>=5 in /Users/manideep/anaconda3/lib/python3.11/site-packages (from ipython->-r requirements.txt (line 34)) (5.7.1)\r\n",
      "Requirement already satisfied: pexpect>4.3 in /Users/manideep/anaconda3/lib/python3.11/site-packages (from ipython->-r requirements.txt (line 34)) (4.8.0)\r\n",
      "Requirement already satisfied: appnope in /Users/manideep/anaconda3/lib/python3.11/site-packages (from ipython->-r requirements.txt (line 34)) (0.1.2)\r\n",
      "Requirement already satisfied: cachetools<6.0,>=2.0.0 in /Users/manideep/anaconda3/lib/python3.11/site-packages (from google-auth<3,>=1.6.3->tensorboard>=2.4.1->-r requirements.txt (line 17)) (5.3.1)\r\n",
      "Requirement already satisfied: pyasn1-modules>=0.2.1 in /Users/manideep/anaconda3/lib/python3.11/site-packages (from google-auth<3,>=1.6.3->tensorboard>=2.4.1->-r requirements.txt (line 17)) (0.2.8)\r\n",
      "Requirement already satisfied: rsa<5,>=3.1.4 in /Users/manideep/anaconda3/lib/python3.11/site-packages (from google-auth<3,>=1.6.3->tensorboard>=2.4.1->-r requirements.txt (line 17)) (4.9)\r\n",
      "Requirement already satisfied: six>=1.9.0 in /Users/manideep/anaconda3/lib/python3.11/site-packages (from google-auth<3,>=1.6.3->tensorboard>=2.4.1->-r requirements.txt (line 17)) (1.16.0)\r\n",
      "Requirement already satisfied: requests-oauthlib>=0.7.0 in /Users/manideep/anaconda3/lib/python3.11/site-packages (from google-auth-oauthlib<1.1,>=0.5->tensorboard>=2.4.1->-r requirements.txt (line 17)) (1.3.1)\r\n",
      "Requirement already satisfied: parso<0.9.0,>=0.8.0 in /Users/manideep/anaconda3/lib/python3.11/site-packages (from jedi>=0.16->ipython->-r requirements.txt (line 34)) (0.8.3)\r\n",
      "Requirement already satisfied: ptyprocess>=0.5 in /Users/manideep/anaconda3/lib/python3.11/site-packages (from pexpect>4.3->ipython->-r requirements.txt (line 34)) (0.7.0)\r\n",
      "Requirement already satisfied: wcwidth in /Users/manideep/anaconda3/lib/python3.11/site-packages (from prompt-toolkit!=3.0.37,<3.1.0,>=3.0.30->ipython->-r requirements.txt (line 34)) (0.2.5)\r\n",
      "Requirement already satisfied: MarkupSafe>=2.1.1 in /Users/manideep/anaconda3/lib/python3.11/site-packages (from werkzeug>=1.0.1->tensorboard>=2.4.1->-r requirements.txt (line 17)) (2.1.1)\r\n",
      "Requirement already satisfied: executing in /Users/manideep/anaconda3/lib/python3.11/site-packages (from stack-data->ipython->-r requirements.txt (line 34)) (0.8.3)\r\n",
      "Requirement already satisfied: asttokens in /Users/manideep/anaconda3/lib/python3.11/site-packages (from stack-data->ipython->-r requirements.txt (line 34)) (2.0.5)\r\n",
      "Requirement already satisfied: pure-eval in /Users/manideep/anaconda3/lib/python3.11/site-packages (from stack-data->ipython->-r requirements.txt (line 34)) (0.2.2)\r\n",
      "Requirement already satisfied: mpmath>=0.19 in /Users/manideep/anaconda3/lib/python3.11/site-packages (from sympy->torch!=1.12.0,>=1.7.0->-r requirements.txt (line 11)) (1.2.1)\r\n",
      "Requirement already satisfied: pyasn1<0.5.0,>=0.4.6 in /Users/manideep/anaconda3/lib/python3.11/site-packages (from pyasn1-modules>=0.2.1->google-auth<3,>=1.6.3->tensorboard>=2.4.1->-r requirements.txt (line 17)) (0.4.8)\r\n",
      "Requirement already satisfied: oauthlib>=3.0.0 in /Users/manideep/anaconda3/lib/python3.11/site-packages (from requests-oauthlib>=0.7.0->google-auth-oauthlib<1.1,>=0.5->tensorboard>=2.4.1->-r requirements.txt (line 17)) (3.2.2)\r\n",
      "Using cached matplotlib-3.7.2-cp311-cp311-macosx_11_0_arm64.whl (7.3 MB)\r\n",
      "Using cached opencv_python-4.8.0.76-cp37-abi3-macosx_11_0_arm64.whl (33.1 MB)\r\n",
      "Installing collected packages: protobuf, opencv-python, matplotlib, torchvision, thop\r\n",
      "  Attempting uninstall: protobuf\r\n",
      "    Found existing installation: protobuf 4.24.1\r\n",
      "    Uninstalling protobuf-4.24.1:\r\n",
      "      Successfully uninstalled protobuf-4.24.1\r\n",
      "  Attempting uninstall: matplotlib\r\n",
      "    Found existing installation: matplotlib 3.2.0\r\n",
      "    Uninstalling matplotlib-3.2.0:\r\n",
      "      Successfully uninstalled matplotlib-3.2.0\r\n",
      "\u001B[31mERROR: pip's dependency resolver does not currently take into account all the packages that are installed. This behaviour is the source of the following dependency conflicts.\r\n",
      "grpcio-status 1.57.0 requires protobuf>=4.21.6, but you have protobuf 4.21.2 which is incompatible.\r\n",
      "tensorflow-macos 2.13.0 requires protobuf!=4.21.0,!=4.21.1,!=4.21.2,!=4.21.3,!=4.21.4,!=4.21.5,<5.0.0dev,>=3.20.3, but you have protobuf 4.21.2 which is incompatible.\r\n",
      "googleapis-common-protos 1.60.0 requires protobuf!=3.20.0,!=3.20.1,!=4.21.1,!=4.21.2,!=4.21.3,!=4.21.4,!=4.21.5,<5.0.0.dev0,>=3.19.5, but you have protobuf 4.21.2 which is incompatible.\r\n",
      "google-api-core 2.11.1 requires protobuf!=3.20.0,!=3.20.1,!=4.21.0,!=4.21.1,!=4.21.2,!=4.21.3,!=4.21.4,!=4.21.5,<5.0.0.dev0,>=3.19.5, but you have protobuf 4.21.2 which is incompatible.\u001B[0m\u001B[31m\r\n",
      "\u001B[0mSuccessfully installed matplotlib-3.7.2 opencv-python-4.8.0.76 protobuf-4.21.2 thop-0.1.1.post2209072238 torchvision-0.15.2\r\n"
     ]
    }
   ],
   "source": [
    "!pip install -r requirements.txt"
   ],
   "metadata": {
    "collapsed": false,
    "ExecuteTime": {
     "end_time": "2023-09-03T08:28:40.710041Z",
     "start_time": "2023-09-03T08:28:29.714801Z"
    }
   },
   "id": "initial_id"
  },
  {
   "cell_type": "code",
   "execution_count": 1,
   "outputs": [],
   "source": [
    "import os\n",
    "train_img_path = '/Users/manideep/PycharmProjects/yolov7/Img Data/Images/train'\n",
    "test_img_path = '/Users/manideep/PycharmProjects/yolov7/Img Data/Images/test'"
   ],
   "metadata": {
    "collapsed": false,
    "ExecuteTime": {
     "end_time": "2023-09-03T17:25:15.333422Z",
     "start_time": "2023-09-03T17:25:15.328080Z"
    }
   },
   "id": "11490ce78231d241"
  },
  {
   "cell_type": "code",
   "execution_count": 4,
   "outputs": [
    {
     "name": "stdout",
     "output_type": "stream",
     "text": [
      "Done\n"
     ]
    }
   ],
   "source": [
    "with open('/Users/manideep/PycharmProjects/yolov7/Img Data/train.txt', \"a+\") as f:\n",
    "    img_list = os. listdir(train_img_path)\n",
    "    for img in img_list:\n",
    "        f.write(os.path.join(train_img_path, img+ '\\n')) \n",
    "    print (\"Done\")"
   ],
   "metadata": {
    "collapsed": false,
    "ExecuteTime": {
     "end_time": "2023-09-03T17:27:59.565163Z",
     "start_time": "2023-09-03T17:27:59.561838Z"
    }
   },
   "id": "fcc212efe5fd03e9"
  },
  {
   "cell_type": "code",
   "execution_count": 5,
   "outputs": [
    {
     "name": "stdout",
     "output_type": "stream",
     "text": [
      "Done\n"
     ]
    }
   ],
   "source": [
    "with open('/Users/manideep/PycharmProjects/yolov7/Img Data/test.txt', \"a+\") as f:\n",
    "    img_list = os. listdir(test_img_path)\n",
    "    for img in img_list:\n",
    "        f.write(os.path.join(test_img_path, img+ '\\n')) \n",
    "    print (\"Done\")"
   ],
   "metadata": {
    "collapsed": false,
    "ExecuteTime": {
     "end_time": "2023-09-03T17:28:00.346034Z",
     "start_time": "2023-09-03T17:28:00.341380Z"
    }
   },
   "id": "cf4c9ab533d621f6"
  },
  {
   "cell_type": "code",
   "execution_count": 10,
   "outputs": [
    {
     "name": "stdout",
     "output_type": "stream",
     "text": [
      "YOLOR 🚀 v0.1-126-g84932d7 torch 2.0.1 CPU\r\n",
      "\r\n",
      "Namespace(weights='yolov7.pt', cfg='cfg/training/custom_yolov7.yaml', data='./data/custom.yaml', hyp='data/hyp.scratch.p5.yaml', epochs=100, batch_size=16, img_size=[640, 640], rect=False, resume=False, nosave=False, notest=False, noautoanchor=False, evolve=False, bucket='', cache_images=False, image_weights=False, device='CPU', multi_scale=False, single_cls=False, adam=False, sync_bn=False, local_rank=-1, workers=8, project='runs/train', entity=None, name='exp', exist_ok=False, quad=False, linear_lr=False, label_smoothing=0.0, upload_dataset=False, bbox_interval=-1, save_period=-1, artifact_alias='latest', freeze=[0], v5_metric=False, world_size=1, global_rank=-1, save_dir='runs/train/exp2', total_batch_size=16)\r\n",
      "\u001B[34m\u001B[1mtensorboard: \u001B[0mStart with 'tensorboard --logdir runs/train', view at http://localhost:6006/\r\n",
      "\u001B[34m\u001B[1mhyperparameters: \u001B[0mlr0=0.01, lrf=0.1, momentum=0.937, weight_decay=0.0005, warmup_epochs=3.0, warmup_momentum=0.8, warmup_bias_lr=0.1, box=0.05, cls=0.3, cls_pw=1.0, obj=0.7, obj_pw=1.0, iou_t=0.2, anchor_t=4.0, fl_gamma=0.0, hsv_h=0.015, hsv_s=0.7, hsv_v=0.4, degrees=0.0, translate=0.2, scale=0.9, shear=0.0, perspective=0.0, flipud=0.0, fliplr=0.5, mosaic=1.0, mixup=0.15, copy_paste=0.0, paste_in=0.15, loss_ota=1\r\n",
      "\u001B[34m\u001B[1mwandb\u001B[0m: (1) Create a W&B account\r\n",
      "\u001B[34m\u001B[1mwandb\u001B[0m: (2) Use an existing W&B account\r\n",
      "\u001B[34m\u001B[1mwandb\u001B[0m: (3) Don't visualize my results\r\n",
      "\u001B[34m\u001B[1mwandb\u001B[0m: Enter your choice: ^C\r\n",
      "Traceback (most recent call last):\r\n",
      "  File \"/Users/manideep/PycharmProjects/yolov7/train.py\", line 616, in <module>\r\n",
      "    train(hyp, opt, device, tb_writer)\r\n",
      "  File \"/Users/manideep/PycharmProjects/yolov7/train.py\", line 72, in train\r\n",
      "    wandb_logger = WandbLogger(opt, Path(opt.save_dir).stem, run_id, data_dict)\r\n",
      "                   ^^^^^^^^^^^^^^^^^^^^^^^^^^^^^^^^^^^^^^^^^^^^^^^^^^^^^^^^^^^^\r\n",
      "  File \"/Users/manideep/PycharmProjects/yolov7/utils/wandb_logging/wandb_utils.py\", line 95, in __init__\r\n",
      "    self.wandb_run = wandb.init(config=opt,\r\n",
      "                     ^^^^^^^^^^^^^^^^^^^^^^\r\n",
      "  File \"/Users/manideep/anaconda3/lib/python3.11/site-packages/wandb/sdk/wandb_init.py\", line 1170, in init\r\n",
      "    raise e\r\n",
      "  File \"/Users/manideep/anaconda3/lib/python3.11/site-packages/wandb/sdk/wandb_init.py\", line 1143, in init\r\n",
      "    wi.setup(kwargs)\r\n",
      "  File \"/Users/manideep/anaconda3/lib/python3.11/site-packages/wandb/sdk/wandb_init.py\", line 289, in setup\r\n",
      "    wandb_login._login(\r\n",
      "  File \"/Users/manideep/anaconda3/lib/python3.11/site-packages/wandb/sdk/wandb_login.py\", line 298, in _login\r\n",
      "    wlogin.prompt_api_key()\r\n",
      "  File \"/Users/manideep/anaconda3/lib/python3.11/site-packages/wandb/sdk/wandb_login.py\", line 221, in prompt_api_key\r\n",
      "    key, status = self._prompt_api_key()\r\n",
      "                  ^^^^^^^^^^^^^^^^^^^^^^\r\n",
      "  File \"/Users/manideep/anaconda3/lib/python3.11/site-packages/wandb/sdk/wandb_login.py\", line 201, in _prompt_api_key\r\n",
      "    key = apikey.prompt_api_key(\r\n",
      "          ^^^^^^^^^^^^^^^^^^^^^^\r\n",
      "  File \"/Users/manideep/anaconda3/lib/python3.11/site-packages/wandb/sdk/lib/apikey.py\", line 107, in prompt_api_key\r\n",
      "    result = prompt_choices(\r\n",
      "             ^^^^^^^^^^^^^^^\r\n",
      "  File \"/Users/manideep/anaconda3/lib/python3.11/site-packages/wandb/util.py\", line 1246, in prompt_choices\r\n",
      "    choice = _prompt_choice(input_timeout=input_timeout, jupyter=jupyter)\r\n",
      "             ^^^^^^^^^^^^^^^^^^^^^^^^^^^^^^^^^^^^^^^^^^^^^^^^^^^^^^^^^^^^\r\n",
      "  File \"/Users/manideep/anaconda3/lib/python3.11/site-packages/wandb/util.py\", line 1229, in _prompt_choice\r\n",
      "    choice = input_fn(text)\r\n",
      "             ^^^^^^^^^^^^^^\r\n",
      "KeyboardInterrupt\r\n"
     ]
    }
   ],
   "source": [
    "!python train.py --batch 16 --cfg cfg/training/custom_yolov7.yaml --epochs 100 --data /data/custom.yaml --weights 'yolov7.pt' --device CPU\n"
   ],
   "metadata": {
    "collapsed": false,
    "ExecuteTime": {
     "end_time": "2023-09-04T06:14:17.156292Z",
     "start_time": "2023-09-04T06:13:36.699759Z"
    }
   },
   "id": "3358555e9fc08e83"
  },
  {
   "cell_type": "code",
   "execution_count": null,
   "outputs": [],
   "source": [],
   "metadata": {
    "collapsed": false
   },
   "id": "ce6f00c615c691e7"
  }
 ],
 "metadata": {
  "kernelspec": {
   "display_name": "Python 3",
   "language": "python",
   "name": "python3"
  },
  "language_info": {
   "codemirror_mode": {
    "name": "ipython",
    "version": 2
   },
   "file_extension": ".py",
   "mimetype": "text/x-python",
   "name": "python",
   "nbconvert_exporter": "python",
   "pygments_lexer": "ipython2",
   "version": "2.7.6"
  }
 },
 "nbformat": 4,
 "nbformat_minor": 5
}
